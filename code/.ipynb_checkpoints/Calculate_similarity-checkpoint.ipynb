{
 "cells": [
  {
   "cell_type": "markdown",
   "id": "9909e927-d257-42a5-9094-a71698abb6f3",
   "metadata": {},
   "source": [
    "This notebook is to use custom defined tree to calculate word similarity between 2 words"
   ]
  },
  {
   "cell_type": "code",
   "execution_count": null,
   "id": "9dbc93cd-4609-4e9a-a257-4444aeac97c6",
   "metadata": {},
   "outputs": [],
   "source": [
    "import customTree\n",
    "import numpy as np\n",
    "import pickle"
   ]
  },
  {
   "cell_type": "markdown",
   "id": "a4249b9e-807d-4d89-91fe-b3b54dd18e6a",
   "metadata": {},
   "source": [
    "Define the path"
   ]
  },
  {
   "cell_type": "code",
   "execution_count": 2,
   "id": "18541781-f593-418f-a363-ca0d39d79bba",
   "metadata": {},
   "outputs": [],
   "source": [
    "ds_path='../../../../local/scratch/datasets/ImageNet/ILSVRC2012/'\n",
    "ds_info_path='../../../../local/scratch/datasets/ImageNet/ILSVRC2012/robustness/'"
   ]
  },
  {
   "cell_type": "markdown",
   "id": "1028a5cd-ede4-41e9-8b78-2d2eeac34199",
   "metadata": {},
   "source": [
    "Initial"
   ]
  },
  {
   "cell_type": "code",
   "execution_count": 3,
   "id": "478bac1a-52ec-441c-b749-b13438cc2bd3",
   "metadata": {},
   "outputs": [],
   "source": [
    "tree=customTree.ImagenetTree(ds_path,ds_info_path)"
   ]
  },
  {
   "cell_type": "markdown",
   "id": "f30ac001-a778-482e-a9e6-1040e65ae417",
   "metadata": {},
   "source": [
    "The three pairs of labels in my thesis"
   ]
  },
  {
   "cell_type": "code",
   "execution_count": 4,
   "id": "6c4a9198",
   "metadata": {},
   "outputs": [
    {
     "data": {
      "text/plain": [
       "(0.9444444444444444, 0.45511961331341894)"
      ]
     },
     "execution_count": 4,
     "metadata": {},
     "output_type": "execute_result"
    }
   ],
   "source": [
    "tree.calculate_wu_palmer_similarity('n02102177','n02102040'),tree.calculate_jcn_similarity('n02102177','n02102040')"
   ]
  },
  {
   "cell_type": "code",
   "execution_count": null,
   "id": "07590fed-e4b2-441e-8b1b-61b3abb13b6e",
   "metadata": {},
   "outputs": [
    {
     "data": {
      "text/plain": [
       "(0.6666666666666666, 0.09839799474441724)"
      ]
     },
     "execution_count": 5,
     "metadata": {},
     "output_type": "execute_result"
    }
   ],
   "source": [
    "tree.calculate_wu_palmer_similarity('n02110958','n02102040'),tree.calculate_jcn_similarity('n02110958','n02102040')"
   ]
  },
  {
   "cell_type": "code",
   "execution_count": 6,
   "id": "46d10373",
   "metadata": {},
   "outputs": [
    {
     "data": {
      "text/plain": [
       "(0.8125, 0.0992663698603016)"
      ]
     },
     "execution_count": 6,
     "metadata": {},
     "output_type": "execute_result"
    }
   ],
   "source": [
    "tree.calculate_wu_palmer_similarity('n02110958','n02102040'),tree.calculate_jcn_similarity('n02110958','n02102040')"
   ]
  },
  {
   "cell_type": "markdown",
   "id": "491b6e68-d2ff-412e-b4ac-87d262a36560",
   "metadata": {},
   "source": [
    "calculate jcn similarity"
   ]
  },
  {
   "cell_type": "code",
   "execution_count": 11,
   "id": "6a04ab22",
   "metadata": {},
   "outputs": [],
   "source": [
    "idx_to_class = np.load('data/idx_to_class.npy',allow_pickle=True).item()\n",
    "distance_matrix = np.ones((1000,1000))\n",
    "for i in range(1000):\n",
    "    for j in range(i+1):\n",
    "        distance_temp = tree.calculate_jcn_similarity(idx_to_class[i], idx_to_class[j])\n",
    "        distance_matrix[i][j] = distance_temp\n",
    "        distance_matrix[j][i] = distance_temp"
   ]
  },
  {
   "cell_type": "code",
   "execution_count": 12,
   "id": "de87b33c-a328-4030-bc6a-d715517a062e",
   "metadata": {},
   "outputs": [],
   "source": [
    "np.save('data/jcn_similarity_matrix.npy', distance_matrix)"
   ]
  },
  {
   "cell_type": "markdown",
   "id": "61eee612-fd46-46df-a8db-aa0ea43ee12b",
   "metadata": {},
   "source": [
    "calculate wup similarity"
   ]
  },
  {
   "cell_type": "code",
   "execution_count": 44,
   "id": "8bfaa184-6ccf-4a41-a305-a364a0f82593",
   "metadata": {},
   "outputs": [],
   "source": [
    "idx_to_class = np.load('data/idx_to_class.npy',allow_pickle=True).item()\n",
    "distance_matrix = np.ones((1000,1000))\n",
    "for i in range(1000):\n",
    "    for j in range(i+1):\n",
    "        distance_temp = tree.calculate_wu_palmer_similarity(idx_to_class[i], idx_to_class[j])\n",
    "        distance_matrix[i][j] = distance_temp\n",
    "        distance_matrix[j][i] = distance_temp\n",
    "np.save('data/wp_similarity_matrix.npy', distance_matrix)"
   ]
  },
  {
   "cell_type": "markdown",
   "id": "d51863f6-8ece-4152-be45-97cbd2cfc578",
   "metadata": {},
   "source": [
    "calculate the probability matrix for custom dataset"
   ]
  },
  {
   "cell_type": "code",
   "execution_count": 45,
   "id": "6cd5172b",
   "metadata": {},
   "outputs": [],
   "source": [
    "prob = np.power(distance_matrix,2)-np.eye(1000)\n",
    "prob = prob/np.sum(prob,axis=1,keepdims=True)"
   ]
  },
  {
   "cell_type": "code",
   "execution_count": 48,
   "id": "904afd05",
   "metadata": {},
   "outputs": [],
   "source": [
    "np.save('data/wp_similarity_prob.npy', prob)"
   ]
  }
 ],
 "metadata": {
  "kernelspec": {
   "display_name": "Python 3 (ipykernel)",
   "language": "python",
   "name": "python3"
  },
  "language_info": {
   "codemirror_mode": {
    "name": "ipython",
    "version": 3
   },
   "file_extension": ".py",
   "mimetype": "text/x-python",
   "name": "python",
   "nbconvert_exporter": "python",
   "pygments_lexer": "ipython3",
   "version": "3.10.13"
  }
 },
 "nbformat": 4,
 "nbformat_minor": 5
}
